{
 "cells": [
  {
   "cell_type": "code",
   "execution_count": 24,
   "id": "e892c37a",
   "metadata": {},
   "outputs": [],
   "source": [
    "import numpy as np\n",
    "import pandas as pd\n",
    "import matplotlib.pyplot as plt \n",
    "from sklearn.tree import DecisionTreeClassifier\n",
    "from sklearn.neighbors import KNeighborsClassifier\n",
    "from sklearn.linear_model import LogisticRegression\n",
    "from sklearn.ensemble import RandomForestClassifier,GradientBoostingClassifier\n",
    "from sklearn.svm import LinearSVC,SVC\n",
    "from sklearn.model_selection import train_test_split, GridSearchCV\n",
    "from sklearn.metrics import classification_report, confusion_matrix, plot_confusion_matrix, accuracy_score, ConfusionMatrixDisplay"
   ]
  },
  {
   "cell_type": "code",
   "execution_count": 22,
   "id": "e8db292c",
   "metadata": {},
   "outputs": [],
   "source": [
    "# def provided by https://towardsdatascience.com/comprehensive-tutorial-on-using-confusion-matrix-in-classification-92be4d70ea18\n",
    "def custom_confusion_matrix(y_true, y_pred, display_labels=None):\n",
    "    \"\"\"\n",
    "    A function to plot a custom confusion matrix with\n",
    "    positive class as the first row and the first column.\n",
    "    \"\"\"\n",
    "    # Create a flipped matrix\n",
    "    cm = np.flip(confusion_matrix(y_true, y_pred))\n",
    "    # Create the plot\n",
    "    fig, ax = plt.subplots(figsize=(8, 5))\n",
    "    cmp = ConfusionMatrixDisplay(cm, display_labels=display_labels)\n",
    "    cmp.plot(ax=ax, cmap='PuRd')\n",
    "    plt.grid(False)"
   ]
  },
  {
   "cell_type": "code",
   "execution_count": 2,
   "id": "b8515853",
   "metadata": {},
   "outputs": [
    {
     "data": {
      "text/html": [
       "<div>\n",
       "<style scoped>\n",
       "    .dataframe tbody tr th:only-of-type {\n",
       "        vertical-align: middle;\n",
       "    }\n",
       "\n",
       "    .dataframe tbody tr th {\n",
       "        vertical-align: top;\n",
       "    }\n",
       "\n",
       "    .dataframe thead th {\n",
       "        text-align: right;\n",
       "    }\n",
       "</style>\n",
       "<table border=\"1\" class=\"dataframe\">\n",
       "  <thead>\n",
       "    <tr style=\"text-align: right;\">\n",
       "      <th></th>\n",
       "      <th>age</th>\n",
       "      <th>gender</th>\n",
       "      <th>height</th>\n",
       "      <th>weight</th>\n",
       "      <th>ap_hi</th>\n",
       "      <th>ap_lo</th>\n",
       "      <th>cholesterol</th>\n",
       "      <th>gluc</th>\n",
       "      <th>smoke</th>\n",
       "      <th>alco</th>\n",
       "      <th>active</th>\n",
       "      <th>cardio</th>\n",
       "      <th>BMI</th>\n",
       "      <th>MAP</th>\n",
       "    </tr>\n",
       "  </thead>\n",
       "  <tbody>\n",
       "    <tr>\n",
       "      <th>0</th>\n",
       "      <td>18393</td>\n",
       "      <td>2</td>\n",
       "      <td>168</td>\n",
       "      <td>62.0</td>\n",
       "      <td>110</td>\n",
       "      <td>80</td>\n",
       "      <td>1</td>\n",
       "      <td>1</td>\n",
       "      <td>0</td>\n",
       "      <td>0</td>\n",
       "      <td>1</td>\n",
       "      <td>0</td>\n",
       "      <td>21.967</td>\n",
       "      <td>90.000</td>\n",
       "    </tr>\n",
       "    <tr>\n",
       "      <th>1</th>\n",
       "      <td>20228</td>\n",
       "      <td>1</td>\n",
       "      <td>156</td>\n",
       "      <td>85.0</td>\n",
       "      <td>140</td>\n",
       "      <td>90</td>\n",
       "      <td>3</td>\n",
       "      <td>1</td>\n",
       "      <td>0</td>\n",
       "      <td>0</td>\n",
       "      <td>1</td>\n",
       "      <td>1</td>\n",
       "      <td>34.928</td>\n",
       "      <td>106.667</td>\n",
       "    </tr>\n",
       "    <tr>\n",
       "      <th>2</th>\n",
       "      <td>18857</td>\n",
       "      <td>1</td>\n",
       "      <td>165</td>\n",
       "      <td>64.0</td>\n",
       "      <td>130</td>\n",
       "      <td>70</td>\n",
       "      <td>3</td>\n",
       "      <td>1</td>\n",
       "      <td>0</td>\n",
       "      <td>0</td>\n",
       "      <td>0</td>\n",
       "      <td>1</td>\n",
       "      <td>23.508</td>\n",
       "      <td>90.000</td>\n",
       "    </tr>\n",
       "    <tr>\n",
       "      <th>3</th>\n",
       "      <td>17623</td>\n",
       "      <td>2</td>\n",
       "      <td>169</td>\n",
       "      <td>82.0</td>\n",
       "      <td>150</td>\n",
       "      <td>100</td>\n",
       "      <td>1</td>\n",
       "      <td>1</td>\n",
       "      <td>0</td>\n",
       "      <td>0</td>\n",
       "      <td>1</td>\n",
       "      <td>1</td>\n",
       "      <td>28.710</td>\n",
       "      <td>116.667</td>\n",
       "    </tr>\n",
       "    <tr>\n",
       "      <th>4</th>\n",
       "      <td>17474</td>\n",
       "      <td>1</td>\n",
       "      <td>156</td>\n",
       "      <td>56.0</td>\n",
       "      <td>100</td>\n",
       "      <td>60</td>\n",
       "      <td>1</td>\n",
       "      <td>1</td>\n",
       "      <td>0</td>\n",
       "      <td>0</td>\n",
       "      <td>0</td>\n",
       "      <td>0</td>\n",
       "      <td>23.011</td>\n",
       "      <td>73.333</td>\n",
       "    </tr>\n",
       "  </tbody>\n",
       "</table>\n",
       "</div>"
      ],
      "text/plain": [
       "     age  gender  height  weight  ap_hi  ap_lo  cholesterol  gluc  smoke  \\\n",
       "0  18393       2     168    62.0    110     80            1     1      0   \n",
       "1  20228       1     156    85.0    140     90            3     1      0   \n",
       "2  18857       1     165    64.0    130     70            3     1      0   \n",
       "3  17623       2     169    82.0    150    100            1     1      0   \n",
       "4  17474       1     156    56.0    100     60            1     1      0   \n",
       "\n",
       "   alco  active  cardio     BMI      MAP  \n",
       "0     0       1       0  21.967   90.000  \n",
       "1     0       1       1  34.928  106.667  \n",
       "2     0       0       1  23.508   90.000  \n",
       "3     0       1       1  28.710  116.667  \n",
       "4     0       0       0  23.011   73.333  "
      ]
     },
     "execution_count": 2,
     "metadata": {},
     "output_type": "execute_result"
    }
   ],
   "source": [
    "df = pd.read_csv('./cleaned_df.csv')\n",
    "df.head()"
   ]
  },
  {
   "cell_type": "code",
   "execution_count": 3,
   "id": "ce298652",
   "metadata": {},
   "outputs": [],
   "source": [
    "X = df.drop('cardio', axis=1)\n",
    "y = df.cardio"
   ]
  },
  {
   "cell_type": "code",
   "execution_count": 4,
   "id": "b2256ec7",
   "metadata": {},
   "outputs": [],
   "source": [
    "X_train, X_test, y_train, y_test = train_test_split(X, y,\n",
    "                                      train_size=0.8,\n",
    "                                      test_size=0.2,\n",
    "                                      shuffle=True,\n",
    "                                      random_state=0)"
   ]
  },
  {
   "cell_type": "code",
   "execution_count": 8,
   "id": "728fc24f",
   "metadata": {},
   "outputs": [],
   "source": [
    "#Hyperparameter tuning using Gridsearch\n",
    "svm = SVC(random_state=0)\n",
    "# param_grid = {'C':[0.01,0.05,0.1,1,10, 100, 1000],'kernel':['linear','rbf'], 'gamma':['scale','auto'] }\n",
    "param_grid = {'C': [10, 100, 1000],\n",
    "              'gamma': [0.1, 0.01, 0.001, 0.0001]}\n",
    "grid = GridSearchCV(svm, param_grid, return_train_score=True, verbose=2, cv=3)"
   ]
  },
  {
   "cell_type": "code",
   "execution_count": 9,
   "id": "fda0dac7",
   "metadata": {},
   "outputs": [
    {
     "name": "stdout",
     "output_type": "stream",
     "text": [
      "Fitting 3 folds for each of 12 candidates, totalling 36 fits\n",
      "[CV] END ....................................C=10, gamma=0.1; total time= 3.3min\n",
      "[CV] END ....................................C=10, gamma=0.1; total time= 3.5min\n",
      "[CV] END ....................................C=10, gamma=0.1; total time= 2.9min\n",
      "[CV] END ...................................C=10, gamma=0.01; total time= 4.9min\n",
      "[CV] END ...................................C=10, gamma=0.01; total time= 4.8min\n",
      "[CV] END ...................................C=10, gamma=0.01; total time= 4.5min\n",
      "[CV] END ..................................C=10, gamma=0.001; total time= 3.4min\n",
      "[CV] END ..................................C=10, gamma=0.001; total time= 3.4min\n",
      "[CV] END ..................................C=10, gamma=0.001; total time= 3.4min\n",
      "[CV] END .................................C=10, gamma=0.0001; total time= 1.8min\n",
      "[CV] END .................................C=10, gamma=0.0001; total time= 1.9min\n",
      "[CV] END .................................C=10, gamma=0.0001; total time= 1.8min\n",
      "[CV] END ...................................C=100, gamma=0.1; total time= 3.1min\n",
      "[CV] END ...................................C=100, gamma=0.1; total time= 2.6min\n",
      "[CV] END ...................................C=100, gamma=0.1; total time= 2.6min\n",
      "[CV] END ..................................C=100, gamma=0.01; total time= 6.1min\n",
      "[CV] END ..................................C=100, gamma=0.01; total time= 5.9min\n",
      "[CV] END ..................................C=100, gamma=0.01; total time= 6.0min\n",
      "[CV] END .................................C=100, gamma=0.001; total time=11.6min\n",
      "[CV] END .................................C=100, gamma=0.001; total time=13.9min\n",
      "[CV] END .................................C=100, gamma=0.001; total time=12.8min\n",
      "[CV] END ................................C=100, gamma=0.0001; total time= 4.6min\n",
      "[CV] END ................................C=100, gamma=0.0001; total time= 4.1min\n",
      "[CV] END ................................C=100, gamma=0.0001; total time= 4.3min\n",
      "[CV] END ..................................C=1000, gamma=0.1; total time= 3.0min\n",
      "[CV] END ..................................C=1000, gamma=0.1; total time= 2.7min\n",
      "[CV] END ..................................C=1000, gamma=0.1; total time= 2.5min\n",
      "[CV] END .................................C=1000, gamma=0.01; total time= 7.5min\n",
      "[CV] END .................................C=1000, gamma=0.01; total time= 6.5min\n",
      "[CV] END .................................C=1000, gamma=0.01; total time= 9.1min\n",
      "[CV] END ................................C=1000, gamma=0.001; total time=58.9min\n",
      "[CV] END ................................C=1000, gamma=0.001; total time=58.7min\n",
      "[CV] END ................................C=1000, gamma=0.001; total time=65.3min\n",
      "[CV] END ...............................C=1000, gamma=0.0001; total time=23.3min\n",
      "[CV] END ...............................C=1000, gamma=0.0001; total time=24.2min\n",
      "[CV] END ...............................C=1000, gamma=0.0001; total time=20.4min\n"
     ]
    },
    {
     "data": {
      "text/plain": [
       "GridSearchCV(cv=3, estimator=SVC(random_state=0),\n",
       "             param_grid={'C': [10, 100, 1000],\n",
       "                         'gamma': [0.1, 0.01, 0.001, 0.0001]},\n",
       "             return_train_score=True, verbose=2)"
      ]
     },
     "execution_count": 9,
     "metadata": {},
     "output_type": "execute_result"
    }
   ],
   "source": [
    "#Fitting the model\n",
    "grid.fit(X_train,y_train)"
   ]
  },
  {
   "cell_type": "code",
   "execution_count": 10,
   "id": "5d7c6d57",
   "metadata": {},
   "outputs": [
    {
     "name": "stdout",
     "output_type": "stream",
     "text": [
      "\u001b[1mBest Parameters of GridSearchCV for SVM Model:\u001b[0m {'C': 100, 'gamma': 0.0001}\n",
      "--------------------------------------------------------------------------------------------------------------------\n",
      "\u001b[1mBest Estimator of GridSearchCV for SVM Model:\u001b[0m SVC(C=100, gamma=0.0001, random_state=0)\n"
     ]
    }
   ],
   "source": [
    "print('\\033[1mBest Parameters of GridSearchCV for SVM Model:\\033[0m', grid.best_params_)\n",
    "print(\"--------------------------------------------------------------------------------------------------------------------\")\n",
    "print('\\033[1mBest Estimator of GridSearchCV for SVM Model:\\033[0m', grid.best_estimator_)"
   ]
  },
  {
   "cell_type": "code",
   "execution_count": 11,
   "id": "c8426931",
   "metadata": {},
   "outputs": [
    {
     "data": {
      "text/html": [
       "<div>\n",
       "<style scoped>\n",
       "    .dataframe tbody tr th:only-of-type {\n",
       "        vertical-align: middle;\n",
       "    }\n",
       "\n",
       "    .dataframe tbody tr th {\n",
       "        vertical-align: top;\n",
       "    }\n",
       "\n",
       "    .dataframe thead th {\n",
       "        text-align: right;\n",
       "    }\n",
       "</style>\n",
       "<table border=\"1\" class=\"dataframe\">\n",
       "  <thead>\n",
       "    <tr style=\"text-align: right;\">\n",
       "      <th></th>\n",
       "      <th>C</th>\n",
       "      <th>gamma</th>\n",
       "      <th>train error</th>\n",
       "      <th>valid error</th>\n",
       "    </tr>\n",
       "  </thead>\n",
       "  <tbody>\n",
       "    <tr>\n",
       "      <th>0</th>\n",
       "      <td>10</td>\n",
       "      <td>0.1</td>\n",
       "      <td>0.000188</td>\n",
       "      <td>0.451693</td>\n",
       "    </tr>\n",
       "    <tr>\n",
       "      <th>1</th>\n",
       "      <td>10</td>\n",
       "      <td>0.01</td>\n",
       "      <td>0.024694</td>\n",
       "      <td>0.366190</td>\n",
       "    </tr>\n",
       "    <tr>\n",
       "      <th>2</th>\n",
       "      <td>10</td>\n",
       "      <td>0.001</td>\n",
       "      <td>0.201237</td>\n",
       "      <td>0.303792</td>\n",
       "    </tr>\n",
       "    <tr>\n",
       "      <th>3</th>\n",
       "      <td>10</td>\n",
       "      <td>0.0001</td>\n",
       "      <td>0.269218</td>\n",
       "      <td>0.279991</td>\n",
       "    </tr>\n",
       "    <tr>\n",
       "      <th>4</th>\n",
       "      <td>100</td>\n",
       "      <td>0.1</td>\n",
       "      <td>0.000150</td>\n",
       "      <td>0.451693</td>\n",
       "    </tr>\n",
       "  </tbody>\n",
       "</table>\n",
       "</div>"
      ],
      "text/plain": [
       "     C   gamma  train error  valid error\n",
       "0   10     0.1     0.000188     0.451693\n",
       "1   10    0.01     0.024694     0.366190\n",
       "2   10   0.001     0.201237     0.303792\n",
       "3   10  0.0001     0.269218     0.279991\n",
       "4  100     0.1     0.000150     0.451693"
      ]
     },
     "execution_count": 11,
     "metadata": {},
     "output_type": "execute_result"
    }
   ],
   "source": [
    "#Train and valid score\n",
    "results = pd.DataFrame()\n",
    "results['C'] = grid.cv_results_['param_C']\n",
    "results['gamma'] = grid.cv_results_['param_gamma']\n",
    "results['train error'] = 1 - grid.cv_results_['mean_train_score']\n",
    "results['valid error'] = 1 - grid.cv_results_['mean_test_score']  #test score = validation score\n",
    "results.head()"
   ]
  },
  {
   "cell_type": "code",
   "execution_count": 12,
   "id": "2e9c9f9e",
   "metadata": {},
   "outputs": [
    {
     "data": {
      "text/plain": [
       "C                   100\n",
       "gamma            0.0001\n",
       "train error    0.255833\n",
       "valid error    0.279013\n",
       "Name: 7, dtype: object"
      ]
     },
     "execution_count": 12,
     "metadata": {},
     "output_type": "execute_result"
    }
   ],
   "source": [
    "ix = results['valid error'].idxmin()\n",
    "results.iloc[ix]"
   ]
  },
  {
   "cell_type": "code",
   "execution_count": 13,
   "id": "b2cbf14d",
   "metadata": {},
   "outputs": [
    {
     "name": "stdout",
     "output_type": "stream",
     "text": [
      "\u001b[1mTrain accuracy: \u001b  0.744167\n",
      "\u001b[1mValid accuracy: \u001b  0.720987\n"
     ]
    }
   ],
   "source": [
    "train_acc = 1 - 0.255833\n",
    "valid_acc = 1 - 0.279013\n",
    "\n",
    "print(\"\\033[1mTrain accuracy: \\033 \", train_acc)\n",
    "print(\"\\033[1mValid accuracy: \\033 \", valid_acc)"
   ]
  },
  {
   "cell_type": "code",
   "execution_count": 14,
   "id": "05e449c2",
   "metadata": {},
   "outputs": [
    {
     "name": "stdout",
     "output_type": "stream",
     "text": [
      "[[5302 1485]\n",
      " [2126 4385]]\n",
      "\u001b[1m--------------------------------------------------------\u001b[0m\n",
      "              precision    recall  f1-score   support\n",
      "\n",
      "           0       0.71      0.78      0.75      6787\n",
      "           1       0.75      0.67      0.71      6511\n",
      "\n",
      "    accuracy                           0.73     13298\n",
      "   macro avg       0.73      0.73      0.73     13298\n",
      "weighted avg       0.73      0.73      0.73     13298\n",
      "\n",
      "\u001b[1m--------------------------------------------------------\u001b[0m\n"
     ]
    }
   ],
   "source": [
    "y_pred = grid.predict(X_test)\n",
    "y_train_pred = grid.predict(X_train)\n",
    "\n",
    "print(confusion_matrix(y_test, y_pred))\n",
    "print(\"\\033[1m--------------------------------------------------------\\033[0m\")\n",
    "print(classification_report(y_test, y_pred))\n",
    "print(\"\\033[1m--------------------------------------------------------\\033[0m\")\n",
    "\n"
   ]
  },
  {
   "cell_type": "code",
   "execution_count": 25,
   "id": "76bf54c7",
   "metadata": {},
   "outputs": [
    {
     "data": {
      "image/png": "[encoded data removed]",
      "text/plain": [
       "<Figure size 800x500 with 2 Axes>"
      ]
     },
     "metadata": {},
     "output_type": "display_data"
    }
   ],
   "source": [
    "custom_confusion_matrix(y_test, y_pred,display_labels=[\"Has CVD\", \"Does Not Have CVD\"])"
   ]
  },
  {
   "cell_type": "code",
   "execution_count": 20,
   "id": "b39b5c72",
   "metadata": {},
   "outputs": [
    {
     "name": "stdout",
     "output_type": "stream",
     "text": [
      "\u001b[1mTest accuracy: \u001b  0.7284554068280944\n"
     ]
    }
   ],
   "source": [
    "test_acc = accuracy_score(y_test, y_pred)\n",
    "print(\"\\033[1mTest accuracy: \\033 \", test_acc)"
   ]
  }
 ],
 "metadata": {
  "kernelspec": {
   "display_name": "Python 3 (ipykernel)",
   "language": "python",
   "name": "python3"
  },
  "language_info": {
   "codemirror_mode": {
    "name": "ipython",
    "version": 3
   },
   "file_extension": ".py",
   "mimetype": "text/x-python",
   "name": "python",
   "nbconvert_exporter": "python",
   "pygments_lexer": "ipython3",
   "version": "3.8.16"
  }
 },
 "nbformat": 4,
 "nbformat_minor": 5
}
